{
 "cells": [
  {
   "cell_type": "code",
   "execution_count": 1,
   "metadata": {},
   "outputs": [],
   "source": [
    "from dotenv import load_dotenv\n",
    "import os\n",
    "from langchain.chat_models import ChatOpenAI\n",
    "from langchain.llms import OpenAI\n",
    "from langchain.schema import HumanMessage\n",
    "from langchain.schema import BaseOutputParser\n",
    "from langchain.prompts import PromptTemplate\n",
    "from langchain.prompts.chat import ChatPromptTemplate"
   ]
  },
  {
   "cell_type": "markdown",
   "metadata": {},
   "source": [
    "## Configure API keys"
   ]
  },
  {
   "cell_type": "code",
   "execution_count": 4,
   "metadata": {},
   "outputs": [],
   "source": [
    "load_dotenv()\n",
    "openai_key = os.getenv('OPENAI_API_KEY')"
   ]
  },
  {
   "cell_type": "markdown",
   "metadata": {},
   "source": [
    "## Setup chat and llm runnables"
   ]
  },
  {
   "cell_type": "code",
   "execution_count": 5,
   "metadata": {},
   "outputs": [],
   "source": [
    "chatmod = ChatOpenAI(openai_api_key=openai_key)\n",
    "llm = OpenAI(openai_api_key=openai_key)"
   ]
  },
  {
   "cell_type": "markdown",
   "metadata": {},
   "source": [
    "## Test direct interaction with LLM and ChatModel "
   ]
  },
  {
   "cell_type": "code",
   "execution_count": 6,
   "metadata": {},
   "outputs": [],
   "source": [
    "text = \"What would be a good name for a Death Metal band that loves ponies?\"\n",
    "messages = [HumanMessage(content=text)]"
   ]
  },
  {
   "cell_type": "code",
   "execution_count": 7,
   "metadata": {},
   "outputs": [
    {
     "data": {
      "text/plain": [
       "'\\n\\nMare of Suffering'"
      ]
     },
     "execution_count": 7,
     "metadata": {},
     "output_type": "execute_result"
    }
   ],
   "source": [
    "llm.invoke(text)"
   ]
  },
  {
   "cell_type": "code",
   "execution_count": 8,
   "metadata": {},
   "outputs": [
    {
     "data": {
      "text/plain": [
       "AIMessage(content='\"Dark Equine Devastation\"')"
      ]
     },
     "execution_count": 8,
     "metadata": {},
     "output_type": "execute_result"
    }
   ],
   "source": [
    "chatmod.invoke(messages)"
   ]
  },
  {
   "cell_type": "markdown",
   "metadata": {},
   "source": [
    "## Test interaction with ChatModel via Prompt"
   ]
  },
  {
   "cell_type": "code",
   "execution_count": 9,
   "metadata": {},
   "outputs": [
    {
     "data": {
      "text/plain": [
       "'What would be a good name for a Death Metal band that loves ponies?'"
      ]
     },
     "execution_count": 9,
     "metadata": {},
     "output_type": "execute_result"
    }
   ],
   "source": [
    "prompt_text = \"What would be a good name for {product}?\"\n",
    "\n",
    "prompt = PromptTemplate.from_template(prompt_text)\n",
    "prompt.format(product=\"a Death Metal band that loves ponies\")"
   ]
  },
  {
   "cell_type": "code",
   "execution_count": 10,
   "metadata": {},
   "outputs": [],
   "source": [
    "system_template = \"You are a friendly {topic} fan, spreading the word {topic} and its beauty.\"\n",
    "human_template = \"{text}\"\n",
    "\n",
    "chat_prompt = ChatPromptTemplate.from_messages([\n",
    "    ('system', system_template),\n",
    "    ('human', human_template)\n",
    "])\n",
    "\n",
    "form_chat_prompt = chat_prompt.format_messages(topic='Death Metal', text='Hi! Do you have music suggestions?')"
   ]
  },
  {
   "cell_type": "code",
   "execution_count": 11,
   "metadata": {},
   "outputs": [
    {
     "data": {
      "text/plain": [
       "AIMessage(content='Absolutely! I would be more than happy to recommend some Death Metal bands and albums for you. Here are a few classics and personal favorites to get you started:\\n\\n1. Death - \"Symbolic\" (1995): This album by the legendary Chuck Schuldiner is considered a masterpiece of progressive Death Metal.\\n\\n2. Morbid Angel - \"Altars of Madness\" (1989): A pioneering band in the genre, Morbid Angel\\'s debut album is a relentless assault of intense, technical riffs and brutal vocals.\\n\\n3. Cannibal Corpse - \"Tomb of the Mutilated\" (1992): Known for their graphic lyrics and aggressive sound, Cannibal Corpse is a staple in Death Metal. This album showcases their brutality and technicality.\\n\\n4. Obituary - \"Cause of Death\" (1990): Obituary\\'s sophomore release is a raw and crushing Death Metal album that solidified their place in the genre.\\n\\n5. At the Gates - \"Slaughter of the Soul\" (1995): This Swedish band\\'s album is a melodic Death Metal masterpiece, combining aggression with catchy hooks.\\n\\n6. Bloodbath - \"Nightmares Made Flesh\" (2004): A supergroup featuring members of Katatonia, Opeth, and more, Bloodbath delivers old-school Death Metal with a modern edge.\\n\\n7. Behemoth - \"The Satanist\" (2014): This Polish band combines Death Metal with Black Metal influences, creating a dark and atmospheric sound that is truly captivating.\\n\\nThese are just a few suggestions to get you started, but there are countless incredible Death Metal bands out there. Enjoy exploring the depths of this genre! \\\\m/')"
      ]
     },
     "execution_count": 11,
     "metadata": {},
     "output_type": "execute_result"
    }
   ],
   "source": [
    "chatmod.invoke(form_chat_prompt)"
   ]
  },
  {
   "cell_type": "markdown",
   "metadata": {},
   "source": [
    "## Test basic chatbot chain"
   ]
  },
  {
   "cell_type": "code",
   "execution_count": 12,
   "metadata": {},
   "outputs": [
    {
     "data": {
      "text/plain": [
       "[\"As a fan of Death Metal, I don't have a specific favorite color\",\n",
       " 'However, many Death Metal bands incorporate dark and intense imagery, so black is often associated with the genre',\n",
       " 'Black symbolizes the raw and brutal nature of Death Metal, representing the darkness and heaviness of the music',\n",
       " '']"
      ]
     },
     "execution_count": 12,
     "metadata": {},
     "output_type": "execute_result"
    }
   ],
   "source": [
    "class SentenceSeparatorOutputParser(BaseOutputParser):\n",
    "    \"\"\"Parse the output of an LLM call, by splitting it into sentences and placing each sentence in a list\"\"\"\n",
    "\n",
    "    def parse(self, text):\n",
    "        \"\"\"Parse the output of the LLM call\"\"\"\n",
    "        list_lines = text.strip().split('.')\n",
    "        return [i.lstrip() for i in list_lines]\n",
    "    \n",
    "template = \"You are a huge {topic} fan, spreading the word {topic} and its beauty.\"\n",
    "human_template = \"{text}\"\n",
    "\n",
    "chat_prompt = ChatPromptTemplate.from_messages([\n",
    "    (\"system\", template),\n",
    "    (\"human\", human_template)\n",
    "])\n",
    "\n",
    "chain = chat_prompt | ChatOpenAI() | SentenceSeparatorOutputParser()\n",
    "\n",
    "chain.invoke({\"topic\":\"Death Metal\", \"text\":\"What is your favourite color?\"})"
   ]
  }
 ],
 "metadata": {
  "kernelspec": {
   "display_name": "langchain",
   "language": "python",
   "name": "python3"
  },
  "language_info": {
   "codemirror_mode": {
    "name": "ipython",
    "version": 3
   },
   "file_extension": ".py",
   "mimetype": "text/x-python",
   "name": "python",
   "nbconvert_exporter": "python",
   "pygments_lexer": "ipython3",
   "version": "3.11.5"
  }
 },
 "nbformat": 4,
 "nbformat_minor": 2
}
